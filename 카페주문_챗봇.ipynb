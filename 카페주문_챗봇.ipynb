{
  "nbformat": 4,
  "nbformat_minor": 0,
  "metadata": {
    "colab": {
      "provenance": [],
      "authorship_tag": "ABX9TyP7UWWClvVW00Ti8HWASvcl",
      "include_colab_link": true
    },
    "kernelspec": {
      "name": "python3",
      "display_name": "Python 3"
    },
    "language_info": {
      "name": "python"
    }
  },
  "cells": [
    {
      "cell_type": "markdown",
      "metadata": {
        "id": "view-in-github",
        "colab_type": "text"
      },
      "source": [
        "<a href=\"https://colab.research.google.com/github/venture21/AICE-associate/blob/main/%EC%B9%B4%ED%8E%98%EC%A3%BC%EB%AC%B8_%EC%B1%97%EB%B4%87.ipynb\" target=\"_parent\"><img src=\"https://colab.research.google.com/assets/colab-badge.svg\" alt=\"Open In Colab\"/></a>"
      ]
    },
    {
      "cell_type": "code",
      "source": [
        "from google.colab import userdata\n",
        "myKey = userdata.get('gemini-token')"
      ],
      "metadata": {
        "id": "cjHrAWabQWgw"
      },
      "execution_count": 3,
      "outputs": []
    },
    {
      "cell_type": "code",
      "execution_count": 4,
      "metadata": {
        "colab": {
          "base_uri": "https://localhost:8080/",
          "height": 53
        },
        "id": "Ts3l7jvgJ8Lf",
        "outputId": "9c18a6b9-cafe-4fc3-8905-10cf2aca7cad"
      },
      "outputs": [
        {
          "output_type": "stream",
          "name": "stdout",
          "text": [
            "안녕하세요. 오늘도 행복하세요 카페입니다. 무엇을 주문하시겠습니까?\n",
            "\n"
          ]
        }
      ],
      "source": [
        "import os\n",
        "import google.generativeai as genai\n",
        "\n",
        "genai.configure(api_key=myKey)\n",
        "\n",
        "# Create the model\n",
        "generation_config = {\n",
        "  \"temperature\": 1,\n",
        "  \"top_p\": 0.95,\n",
        "  \"top_k\": 40,\n",
        "  \"max_output_tokens\": 8192,\n",
        "  \"response_mime_type\": \"text/plain\",\n",
        "}\n",
        "\n",
        "model = genai.GenerativeModel(\n",
        "  model_name=\"gemini-2.0-flash-exp\",\n",
        "  generation_config=generation_config,\n",
        "  system_instruction=\"당신은 카페 주문을 전문으로 받는 직원입니다. 우리 카페의 이름 \\\"오늘도 행복하세요\\\" 입니다. 손님이 등장하면 \\\"안녕하세요. 오늘도 행복하세요 카페입니다. 무엇을 주문하시겠습니까\\\"라고 응대합니다.\\n\\n메뉴는 아래와 같습니다. \\n아메리카노 (Hot) 5000원\\n카페라떼 (Hot) 6000원\\n딸기라떼 (Ice) 6500원\\n\\n아메리카노와 카페라떼 ice는 얼음값으로 500원을 추가합니다.\\n\\n주문을 받고, 주문을 다 받으면 주문 받은 메뉴를 다시 한번 확인해서 출력해주고, 확인합니다. 그리고 전체 합산금액을 알려주고, 주문 내역이 맞는지 확인합니다. \",\n",
        ")\n",
        "\n",
        "chat_session = model.start_chat(\n",
        "  history=[ ]\n",
        ")\n",
        "\n",
        "response = chat_session.send_message(\"INSERT_INPUT_HERE\")\n",
        "\n",
        "print(response.text)"
      ]
    },
    {
      "cell_type": "code",
      "source": [],
      "metadata": {
        "id": "GtpuNanPQ7R6"
      },
      "execution_count": null,
      "outputs": []
    }
  ]
}